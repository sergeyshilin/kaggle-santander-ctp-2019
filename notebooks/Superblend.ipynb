{
 "cells": [
  {
   "cell_type": "code",
   "execution_count": 1,
   "metadata": {},
   "outputs": [],
   "source": [
    "import numpy as np\n",
    "import pandas as pd"
   ]
  },
  {
   "cell_type": "code",
   "execution_count": 2,
   "metadata": {},
   "outputs": [],
   "source": [
    "sample_submit = pd.read_csv('../data/sample_submission.csv')"
   ]
  },
  {
   "cell_type": "code",
   "execution_count": 3,
   "metadata": {},
   "outputs": [],
   "source": [
    "blends = [\n",
    "    '925_stacking_more_0918_5_fold_0804195132.csv',\n",
    "    '962_blending_dima_0804.csv',\n",
    "    'best_blend_13.csv',\n",
    "    'best_blend_19.csv',\n",
    "    'best_blend_25.csv',\n",
    "    'best_blend_33.csv',\n",
    "    'best_blend_47.csv',\n",
    "    'best_blend_.csv'\n",
    "]\n",
    "\n",
    "blends = [f'../blending/{x}' for x in blends]"
   ]
  },
  {
   "cell_type": "code",
   "execution_count": 4,
   "metadata": {},
   "outputs": [
    {
     "data": {
      "text/plain": [
       "['../blending/925_stacking_more_0918_5_fold_0804195132.csv',\n",
       " '../blending/962_blending_dima_0804.csv',\n",
       " '../blending/best_blend_13.csv',\n",
       " '../blending/best_blend_19.csv',\n",
       " '../blending/best_blend_25.csv',\n",
       " '../blending/best_blend_33.csv',\n",
       " '../blending/best_blend_47.csv',\n",
       " '../blending/best_blend_.csv']"
      ]
     },
     "execution_count": 4,
     "metadata": {},
     "output_type": "execute_result"
    }
   ],
   "source": [
    "blends"
   ]
  },
  {
   "cell_type": "code",
   "execution_count": 5,
   "metadata": {},
   "outputs": [],
   "source": [
    "blends = [pd.read_csv(x).target.values.reshape((-1, 1)) for x in blends]"
   ]
  },
  {
   "cell_type": "code",
   "execution_count": 6,
   "metadata": {},
   "outputs": [],
   "source": [
    "blends = pd.DataFrame(np.hstack(blends))"
   ]
  },
  {
   "cell_type": "code",
   "execution_count": 7,
   "metadata": {},
   "outputs": [
    {
     "data": {
      "text/html": [
       "<div>\n",
       "<style scoped>\n",
       "    .dataframe tbody tr th:only-of-type {\n",
       "        vertical-align: middle;\n",
       "    }\n",
       "\n",
       "    .dataframe tbody tr th {\n",
       "        vertical-align: top;\n",
       "    }\n",
       "\n",
       "    .dataframe thead th {\n",
       "        text-align: right;\n",
       "    }\n",
       "</style>\n",
       "<table border=\"1\" class=\"dataframe\">\n",
       "  <thead>\n",
       "    <tr style=\"text-align: right;\">\n",
       "      <th></th>\n",
       "      <th>0</th>\n",
       "      <th>1</th>\n",
       "      <th>2</th>\n",
       "      <th>3</th>\n",
       "      <th>4</th>\n",
       "      <th>5</th>\n",
       "      <th>6</th>\n",
       "      <th>7</th>\n",
       "    </tr>\n",
       "  </thead>\n",
       "  <tbody>\n",
       "    <tr>\n",
       "      <th>0</th>\n",
       "      <td>0.082098</td>\n",
       "      <td>151264.533145</td>\n",
       "      <td>0.144036</td>\n",
       "      <td>0.131704</td>\n",
       "      <td>0.125680</td>\n",
       "      <td>0.126515</td>\n",
       "      <td>0.118791</td>\n",
       "      <td>0.117465</td>\n",
       "    </tr>\n",
       "    <tr>\n",
       "      <th>1</th>\n",
       "      <td>0.214357</td>\n",
       "      <td>176002.303734</td>\n",
       "      <td>0.360064</td>\n",
       "      <td>0.370713</td>\n",
       "      <td>0.373320</td>\n",
       "      <td>0.377153</td>\n",
       "      <td>0.372280</td>\n",
       "      <td>0.369864</td>\n",
       "    </tr>\n",
       "    <tr>\n",
       "      <th>2</th>\n",
       "      <td>0.181738</td>\n",
       "      <td>172933.648467</td>\n",
       "      <td>0.315207</td>\n",
       "      <td>0.326907</td>\n",
       "      <td>0.336139</td>\n",
       "      <td>0.334164</td>\n",
       "      <td>0.352275</td>\n",
       "      <td>0.346955</td>\n",
       "    </tr>\n",
       "    <tr>\n",
       "      <th>3</th>\n",
       "      <td>0.082966</td>\n",
       "      <td>150271.299970</td>\n",
       "      <td>0.138877</td>\n",
       "      <td>0.128887</td>\n",
       "      <td>0.150862</td>\n",
       "      <td>0.149924</td>\n",
       "      <td>0.161517</td>\n",
       "      <td>0.176855</td>\n",
       "    </tr>\n",
       "    <tr>\n",
       "      <th>4</th>\n",
       "      <td>0.051106</td>\n",
       "      <td>136475.764399</td>\n",
       "      <td>0.050362</td>\n",
       "      <td>0.053033</td>\n",
       "      <td>0.053514</td>\n",
       "      <td>0.053057</td>\n",
       "      <td>0.052639</td>\n",
       "      <td>0.051232</td>\n",
       "    </tr>\n",
       "  </tbody>\n",
       "</table>\n",
       "</div>"
      ],
      "text/plain": [
       "          0              1         2         3         4         5         6  \\\n",
       "0  0.082098  151264.533145  0.144036  0.131704  0.125680  0.126515  0.118791   \n",
       "1  0.214357  176002.303734  0.360064  0.370713  0.373320  0.377153  0.372280   \n",
       "2  0.181738  172933.648467  0.315207  0.326907  0.336139  0.334164  0.352275   \n",
       "3  0.082966  150271.299970  0.138877  0.128887  0.150862  0.149924  0.161517   \n",
       "4  0.051106  136475.764399  0.050362  0.053033  0.053514  0.053057  0.052639   \n",
       "\n",
       "          7  \n",
       "0  0.117465  \n",
       "1  0.369864  \n",
       "2  0.346955  \n",
       "3  0.176855  \n",
       "4  0.051232  "
      ]
     },
     "execution_count": 7,
     "metadata": {},
     "output_type": "execute_result"
    }
   ],
   "source": [
    "blends.head()"
   ]
  },
  {
   "cell_type": "code",
   "execution_count": 8,
   "metadata": {},
   "outputs": [
    {
     "data": {
      "text/html": [
       "<div>\n",
       "<style scoped>\n",
       "    .dataframe tbody tr th:only-of-type {\n",
       "        vertical-align: middle;\n",
       "    }\n",
       "\n",
       "    .dataframe tbody tr th {\n",
       "        vertical-align: top;\n",
       "    }\n",
       "\n",
       "    .dataframe thead th {\n",
       "        text-align: right;\n",
       "    }\n",
       "</style>\n",
       "<table border=\"1\" class=\"dataframe\">\n",
       "  <thead>\n",
       "    <tr style=\"text-align: right;\">\n",
       "      <th></th>\n",
       "      <th>0</th>\n",
       "      <th>1</th>\n",
       "      <th>2</th>\n",
       "      <th>3</th>\n",
       "      <th>4</th>\n",
       "      <th>5</th>\n",
       "      <th>6</th>\n",
       "      <th>7</th>\n",
       "    </tr>\n",
       "  </thead>\n",
       "  <tbody>\n",
       "    <tr>\n",
       "      <th>0</th>\n",
       "      <td>152153.0</td>\n",
       "      <td>152271.0</td>\n",
       "      <td>155184.0</td>\n",
       "      <td>153255.0</td>\n",
       "      <td>152235.0</td>\n",
       "      <td>152296.0</td>\n",
       "      <td>151019.0</td>\n",
       "      <td>150862.0</td>\n",
       "    </tr>\n",
       "    <tr>\n",
       "      <th>1</th>\n",
       "      <td>176431.0</td>\n",
       "      <td>176898.0</td>\n",
       "      <td>176637.0</td>\n",
       "      <td>177363.0</td>\n",
       "      <td>177418.0</td>\n",
       "      <td>177682.0</td>\n",
       "      <td>177247.0</td>\n",
       "      <td>177142.0</td>\n",
       "    </tr>\n",
       "    <tr>\n",
       "      <th>2</th>\n",
       "      <td>173014.0</td>\n",
       "      <td>173849.0</td>\n",
       "      <td>173088.0</td>\n",
       "      <td>173955.0</td>\n",
       "      <td>174565.0</td>\n",
       "      <td>174380.0</td>\n",
       "      <td>175763.0</td>\n",
       "      <td>175428.0</td>\n",
       "    </tr>\n",
       "    <tr>\n",
       "      <th>3</th>\n",
       "      <td>152513.0</td>\n",
       "      <td>151260.0</td>\n",
       "      <td>154444.0</td>\n",
       "      <td>152834.0</td>\n",
       "      <td>155955.0</td>\n",
       "      <td>155808.0</td>\n",
       "      <td>157369.0</td>\n",
       "      <td>159365.0</td>\n",
       "    </tr>\n",
       "    <tr>\n",
       "      <th>4</th>\n",
       "      <td>136562.0</td>\n",
       "      <td>137320.0</td>\n",
       "      <td>134351.0</td>\n",
       "      <td>135150.0</td>\n",
       "      <td>135345.0</td>\n",
       "      <td>135084.0</td>\n",
       "      <td>134858.0</td>\n",
       "      <td>134432.0</td>\n",
       "    </tr>\n",
       "  </tbody>\n",
       "</table>\n",
       "</div>"
      ],
      "text/plain": [
       "          0         1         2         3         4         5         6  \\\n",
       "0  152153.0  152271.0  155184.0  153255.0  152235.0  152296.0  151019.0   \n",
       "1  176431.0  176898.0  176637.0  177363.0  177418.0  177682.0  177247.0   \n",
       "2  173014.0  173849.0  173088.0  173955.0  174565.0  174380.0  175763.0   \n",
       "3  152513.0  151260.0  154444.0  152834.0  155955.0  155808.0  157369.0   \n",
       "4  136562.0  137320.0  134351.0  135150.0  135345.0  135084.0  134858.0   \n",
       "\n",
       "          7  \n",
       "0  150862.0  \n",
       "1  177142.0  \n",
       "2  175428.0  \n",
       "3  159365.0  \n",
       "4  134432.0  "
      ]
     },
     "execution_count": 8,
     "metadata": {},
     "output_type": "execute_result"
    }
   ],
   "source": [
    "blends.rank().head()"
   ]
  },
  {
   "cell_type": "code",
   "execution_count": 9,
   "metadata": {},
   "outputs": [],
   "source": [
    "result = blends.rank().mean(axis=1)"
   ]
  },
  {
   "cell_type": "code",
   "execution_count": 10,
   "metadata": {},
   "outputs": [],
   "source": [
    "sample_submit.target = result"
   ]
  },
  {
   "cell_type": "code",
   "execution_count": 11,
   "metadata": {},
   "outputs": [
    {
     "data": {
      "text/html": [
       "<div>\n",
       "<style scoped>\n",
       "    .dataframe tbody tr th:only-of-type {\n",
       "        vertical-align: middle;\n",
       "    }\n",
       "\n",
       "    .dataframe tbody tr th {\n",
       "        vertical-align: top;\n",
       "    }\n",
       "\n",
       "    .dataframe thead th {\n",
       "        text-align: right;\n",
       "    }\n",
       "</style>\n",
       "<table border=\"1\" class=\"dataframe\">\n",
       "  <thead>\n",
       "    <tr style=\"text-align: right;\">\n",
       "      <th></th>\n",
       "      <th>ID_code</th>\n",
       "      <th>target</th>\n",
       "    </tr>\n",
       "  </thead>\n",
       "  <tbody>\n",
       "    <tr>\n",
       "      <th>0</th>\n",
       "      <td>test_0</td>\n",
       "      <td>152409.375</td>\n",
       "    </tr>\n",
       "    <tr>\n",
       "      <th>1</th>\n",
       "      <td>test_1</td>\n",
       "      <td>177102.250</td>\n",
       "    </tr>\n",
       "    <tr>\n",
       "      <th>2</th>\n",
       "      <td>test_2</td>\n",
       "      <td>174255.250</td>\n",
       "    </tr>\n",
       "    <tr>\n",
       "      <th>3</th>\n",
       "      <td>test_3</td>\n",
       "      <td>154943.500</td>\n",
       "    </tr>\n",
       "    <tr>\n",
       "      <th>4</th>\n",
       "      <td>test_4</td>\n",
       "      <td>135387.750</td>\n",
       "    </tr>\n",
       "  </tbody>\n",
       "</table>\n",
       "</div>"
      ],
      "text/plain": [
       "  ID_code      target\n",
       "0  test_0  152409.375\n",
       "1  test_1  177102.250\n",
       "2  test_2  174255.250\n",
       "3  test_3  154943.500\n",
       "4  test_4  135387.750"
      ]
     },
     "execution_count": 11,
     "metadata": {},
     "output_type": "execute_result"
    }
   ],
   "source": [
    "sample_submit.head()"
   ]
  },
  {
   "cell_type": "code",
   "execution_count": null,
   "metadata": {},
   "outputs": [],
   "source": [
    "sample_submit.to_csv('../submits/final.csv', index=False)"
   ]
  }
 ],
 "metadata": {
  "kernelspec": {
   "display_name": "Python 3",
   "language": "python",
   "name": "python3"
  },
  "language_info": {
   "codemirror_mode": {
    "name": "ipython",
    "version": 3
   },
   "file_extension": ".py",
   "mimetype": "text/x-python",
   "name": "python",
   "nbconvert_exporter": "python",
   "pygments_lexer": "ipython3",
   "version": "3.6.7"
  }
 },
 "nbformat": 4,
 "nbformat_minor": 2
}
