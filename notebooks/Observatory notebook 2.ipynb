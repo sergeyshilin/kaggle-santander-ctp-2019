{
 "cells": [
  {
   "cell_type": "code",
   "execution_count": 1,
   "metadata": {},
   "outputs": [],
   "source": [
    "import numpy as np\n",
    "import pandas as pd\n",
    "import matplotlib.pyplot as plt\n",
    "%matplotlib inline\n",
    "# import seaborn as sns"
   ]
  },
  {
   "cell_type": "code",
   "execution_count": 2,
   "metadata": {},
   "outputs": [],
   "source": [
    "train = pd.read_csv('../data/train.csv')\n",
    "test = pd.read_csv('../data/test.csv')"
   ]
  },
  {
   "cell_type": "markdown",
   "metadata": {},
   "source": [
    "### Dealing with fake ids "
   ]
  },
  {
   "cell_type": "code",
   "execution_count": 9,
   "metadata": {},
   "outputs": [],
   "source": [
    "fake_ids = np.load('../data/synthetic_samples_indexes.npy')"
   ]
  },
  {
   "cell_type": "code",
   "execution_count": 50,
   "metadata": {},
   "outputs": [],
   "source": [
    "y = train.target\n",
    "train.drop(['target'], inplace=True, axis=1)"
   ]
  },
  {
   "cell_type": "code",
   "execution_count": 26,
   "metadata": {},
   "outputs": [],
   "source": [
    "good_test = test.loc[~test.index.isin(fake_ids)]"
   ]
  },
  {
   "cell_type": "code",
   "execution_count": 96,
   "metadata": {},
   "outputs": [],
   "source": [
    "real = train.var_81.map(train.var_81.value_counts())\n",
    "itwas = test.var_81.map(test.var_81.value_counts())\n",
    "itis = test.var_81.map(good_test.var_81.value_counts())"
   ]
  },
  {
   "cell_type": "code",
   "execution_count": 97,
   "metadata": {},
   "outputs": [
    {
     "name": "stdout",
     "output_type": "stream",
     "text": [
      "[ 4  1  3  1  1 11  2  3  5  1  5  5  1  3  3  4  1  3  4  1]\n",
      "[ 6  2  3  8  2 14  4  4  9  4  4  3  7  5  7  2  2  2 11  2]\n",
      "[3 1 1 3 1 6 1 2 3 3 1 1 4 3 2 1 2 1 5 1]\n"
     ]
    }
   ],
   "source": [
    "print(real[:20].values)\n",
    "print(itwas[:20].values)\n",
    "print(itis[:20].values)"
   ]
  },
  {
   "cell_type": "markdown",
   "metadata": {},
   "source": [
    "### Other observations "
   ]
  },
  {
   "cell_type": "code",
   "execution_count": 56,
   "metadata": {},
   "outputs": [],
   "source": [
    "X = train[train.columns[2:]].values\n",
    "y = train.target"
   ]
  },
  {
   "cell_type": "code",
   "execution_count": 34,
   "metadata": {},
   "outputs": [],
   "source": [
    "X_tr_neg = train.loc[train.target == 0, train.columns[2:]].values\n",
    "X_tr_pos = train.loc[train.target == 1, train.columns[2:]].values"
   ]
  },
  {
   "cell_type": "code",
   "execution_count": 109,
   "metadata": {},
   "outputs": [
    {
     "data": {
      "text/plain": [
       "[<matplotlib.lines.Line2D at 0x7f48011bac88>]"
      ]
     },
     "execution_count": 109,
     "metadata": {},
     "output_type": "execute_result"
    },
    {
     "data": {
      "image/png": "[encoded data removed]",
      "text/plain": [
       "<Figure size 432x288 with 1 Axes>"
      ]
     },
     "metadata": {
      "needs_background": "light"
     },
     "output_type": "display_data"
    }
   ],
   "source": [
    "plt.plot(train.loc[train.target == 0, 'var_0'])"
   ]
  },
  {
   "cell_type": "code",
   "execution_count": 110,
   "metadata": {},
   "outputs": [
    {
     "data": {
      "text/plain": [
       "[<matplotlib.lines.Line2D at 0x7f481bbebc88>]"
      ]
     },
     "execution_count": 110,
     "metadata": {},
     "output_type": "execute_result"
    },
    {
     "data": {
      "image/png": "[encoded data removed]",
      "text/plain": [
       "<Figure size 432x288 with 1 Axes>"
      ]
     },
     "metadata": {
      "needs_background": "light"
     },
     "output_type": "display_data"
    }
   ],
   "source": [
    "plt.plot(train.loc[train.target == 1, 'var_0'])"
   ]
  },
  {
   "cell_type": "code",
   "execution_count": 79,
   "metadata": {},
   "outputs": [
    {
     "name": "stdout",
     "output_type": "stream",
     "text": [
      "min:  0.4084\n",
      "max:  20.315\n",
      "5%:  5.967425\n",
      "95%:  15.889494999999998\n"
     ]
    }
   ],
   "source": [
    "print ('min: ', train.loc[train.target == 0, 'var_0'].min())\n",
    "print ('max: ', train.loc[train.target == 0, 'var_0'].max())\n",
    "print ('5%: ', train.loc[train.target == 0, 'var_0'].quantile(0.05))\n",
    "print ('95%: ', train.loc[train.target == 0, 'var_0'].quantile(0.95))"
   ]
  },
  {
   "cell_type": "code",
   "execution_count": 80,
   "metadata": {},
   "outputs": [
    {
     "name": "stdout",
     "output_type": "stream",
     "text": [
      "min:  0.4528\n",
      "max:  19.4583\n",
      "5%:  6.080184999999999\n",
      "95%:  17.02842499999999\n"
     ]
    }
   ],
   "source": [
    "print ('min: ', train.loc[train.target == 1, 'var_0'].min())\n",
    "print ('max: ', train.loc[train.target == 1, 'var_0'].max())\n",
    "print ('5%: ', train.loc[train.target == 1, 'var_0'].quantile(0.05))\n",
    "print ('95%: ', train.loc[train.target == 1, 'var_0'].quantile(0.95))"
   ]
  },
  {
   "cell_type": "code",
   "execution_count": 81,
   "metadata": {},
   "outputs": [
    {
     "data": {
      "text/html": [
       "<div>\n",
       "<style scoped>\n",
       "    .dataframe tbody tr th:only-of-type {\n",
       "        vertical-align: middle;\n",
       "    }\n",
       "\n",
       "    .dataframe tbody tr th {\n",
       "        vertical-align: top;\n",
       "    }\n",
       "\n",
       "    .dataframe thead th {\n",
       "        text-align: right;\n",
       "    }\n",
       "</style>\n",
       "<table border=\"1\" class=\"dataframe\">\n",
       "  <thead>\n",
       "    <tr style=\"text-align: right;\">\n",
       "      <th></th>\n",
       "      <th>ID_code</th>\n",
       "      <th>target</th>\n",
       "      <th>var_0</th>\n",
       "      <th>var_1</th>\n",
       "      <th>var_2</th>\n",
       "      <th>var_3</th>\n",
       "      <th>var_4</th>\n",
       "      <th>var_5</th>\n",
       "      <th>var_6</th>\n",
       "      <th>var_7</th>\n",
       "      <th>...</th>\n",
       "      <th>var_190</th>\n",
       "      <th>var_191</th>\n",
       "      <th>var_192</th>\n",
       "      <th>var_193</th>\n",
       "      <th>var_194</th>\n",
       "      <th>var_195</th>\n",
       "      <th>var_196</th>\n",
       "      <th>var_197</th>\n",
       "      <th>var_198</th>\n",
       "      <th>var_199</th>\n",
       "    </tr>\n",
       "  </thead>\n",
       "  <tbody>\n",
       "    <tr>\n",
       "      <th>0</th>\n",
       "      <td>train_0</td>\n",
       "      <td>0</td>\n",
       "      <td>8.9255</td>\n",
       "      <td>-6.7863</td>\n",
       "      <td>11.9081</td>\n",
       "      <td>5.0930</td>\n",
       "      <td>11.4607</td>\n",
       "      <td>-9.2834</td>\n",
       "      <td>5.1187</td>\n",
       "      <td>18.6266</td>\n",
       "      <td>...</td>\n",
       "      <td>4.4354</td>\n",
       "      <td>3.9642</td>\n",
       "      <td>3.1364</td>\n",
       "      <td>1.6910</td>\n",
       "      <td>18.5227</td>\n",
       "      <td>-2.3978</td>\n",
       "      <td>7.8784</td>\n",
       "      <td>8.5635</td>\n",
       "      <td>12.7803</td>\n",
       "      <td>-1.0914</td>\n",
       "    </tr>\n",
       "    <tr>\n",
       "      <th>1</th>\n",
       "      <td>train_1</td>\n",
       "      <td>0</td>\n",
       "      <td>11.5006</td>\n",
       "      <td>-4.1473</td>\n",
       "      <td>13.8588</td>\n",
       "      <td>5.3890</td>\n",
       "      <td>12.3622</td>\n",
       "      <td>7.0433</td>\n",
       "      <td>5.6208</td>\n",
       "      <td>16.5338</td>\n",
       "      <td>...</td>\n",
       "      <td>7.6421</td>\n",
       "      <td>7.7214</td>\n",
       "      <td>2.5837</td>\n",
       "      <td>10.9516</td>\n",
       "      <td>15.4305</td>\n",
       "      <td>2.0339</td>\n",
       "      <td>8.1267</td>\n",
       "      <td>8.7889</td>\n",
       "      <td>18.3560</td>\n",
       "      <td>1.9518</td>\n",
       "    </tr>\n",
       "    <tr>\n",
       "      <th>2</th>\n",
       "      <td>train_2</td>\n",
       "      <td>0</td>\n",
       "      <td>8.6093</td>\n",
       "      <td>-2.7457</td>\n",
       "      <td>12.0805</td>\n",
       "      <td>7.8928</td>\n",
       "      <td>10.5825</td>\n",
       "      <td>-9.0837</td>\n",
       "      <td>6.9427</td>\n",
       "      <td>14.6155</td>\n",
       "      <td>...</td>\n",
       "      <td>2.9057</td>\n",
       "      <td>9.7905</td>\n",
       "      <td>1.6704</td>\n",
       "      <td>1.6858</td>\n",
       "      <td>21.6042</td>\n",
       "      <td>3.1417</td>\n",
       "      <td>-6.5213</td>\n",
       "      <td>8.2675</td>\n",
       "      <td>14.7222</td>\n",
       "      <td>0.3965</td>\n",
       "    </tr>\n",
       "    <tr>\n",
       "      <th>3</th>\n",
       "      <td>train_3</td>\n",
       "      <td>0</td>\n",
       "      <td>11.0604</td>\n",
       "      <td>-2.1518</td>\n",
       "      <td>8.9522</td>\n",
       "      <td>7.1957</td>\n",
       "      <td>12.5846</td>\n",
       "      <td>-1.8361</td>\n",
       "      <td>5.8428</td>\n",
       "      <td>14.9250</td>\n",
       "      <td>...</td>\n",
       "      <td>4.4666</td>\n",
       "      <td>4.7433</td>\n",
       "      <td>0.7178</td>\n",
       "      <td>1.4214</td>\n",
       "      <td>23.0347</td>\n",
       "      <td>-1.2706</td>\n",
       "      <td>-2.9275</td>\n",
       "      <td>10.2922</td>\n",
       "      <td>17.9697</td>\n",
       "      <td>-8.9996</td>\n",
       "    </tr>\n",
       "    <tr>\n",
       "      <th>4</th>\n",
       "      <td>train_4</td>\n",
       "      <td>0</td>\n",
       "      <td>9.8369</td>\n",
       "      <td>-1.4834</td>\n",
       "      <td>12.8746</td>\n",
       "      <td>6.6375</td>\n",
       "      <td>12.2772</td>\n",
       "      <td>2.4486</td>\n",
       "      <td>5.9405</td>\n",
       "      <td>19.2514</td>\n",
       "      <td>...</td>\n",
       "      <td>-1.4905</td>\n",
       "      <td>9.5214</td>\n",
       "      <td>-0.1508</td>\n",
       "      <td>9.1942</td>\n",
       "      <td>13.2876</td>\n",
       "      <td>-1.5121</td>\n",
       "      <td>3.9267</td>\n",
       "      <td>9.5031</td>\n",
       "      <td>17.9974</td>\n",
       "      <td>-8.8104</td>\n",
       "    </tr>\n",
       "    <tr>\n",
       "      <th>5</th>\n",
       "      <td>train_5</td>\n",
       "      <td>0</td>\n",
       "      <td>11.4763</td>\n",
       "      <td>-2.3182</td>\n",
       "      <td>12.6080</td>\n",
       "      <td>8.6264</td>\n",
       "      <td>10.9621</td>\n",
       "      <td>3.5609</td>\n",
       "      <td>4.5322</td>\n",
       "      <td>15.2255</td>\n",
       "      <td>...</td>\n",
       "      <td>-6.3068</td>\n",
       "      <td>6.6025</td>\n",
       "      <td>5.2912</td>\n",
       "      <td>0.4403</td>\n",
       "      <td>14.9452</td>\n",
       "      <td>1.0314</td>\n",
       "      <td>-3.6241</td>\n",
       "      <td>9.7670</td>\n",
       "      <td>12.5809</td>\n",
       "      <td>-4.7602</td>\n",
       "    </tr>\n",
       "    <tr>\n",
       "      <th>6</th>\n",
       "      <td>train_6</td>\n",
       "      <td>0</td>\n",
       "      <td>11.8091</td>\n",
       "      <td>-0.0832</td>\n",
       "      <td>9.3494</td>\n",
       "      <td>4.2916</td>\n",
       "      <td>11.1355</td>\n",
       "      <td>-8.0198</td>\n",
       "      <td>6.1961</td>\n",
       "      <td>12.0771</td>\n",
       "      <td>...</td>\n",
       "      <td>8.7830</td>\n",
       "      <td>6.4521</td>\n",
       "      <td>3.5325</td>\n",
       "      <td>0.1777</td>\n",
       "      <td>18.3314</td>\n",
       "      <td>0.5845</td>\n",
       "      <td>9.1104</td>\n",
       "      <td>9.1143</td>\n",
       "      <td>10.8869</td>\n",
       "      <td>-3.2097</td>\n",
       "    </tr>\n",
       "    <tr>\n",
       "      <th>7</th>\n",
       "      <td>train_7</td>\n",
       "      <td>0</td>\n",
       "      <td>13.5580</td>\n",
       "      <td>-7.9881</td>\n",
       "      <td>13.8776</td>\n",
       "      <td>7.5985</td>\n",
       "      <td>8.6543</td>\n",
       "      <td>0.8310</td>\n",
       "      <td>5.6890</td>\n",
       "      <td>22.3262</td>\n",
       "      <td>...</td>\n",
       "      <td>13.1700</td>\n",
       "      <td>6.5491</td>\n",
       "      <td>3.9906</td>\n",
       "      <td>5.8061</td>\n",
       "      <td>23.1407</td>\n",
       "      <td>-0.3776</td>\n",
       "      <td>4.2178</td>\n",
       "      <td>9.4237</td>\n",
       "      <td>8.6624</td>\n",
       "      <td>3.4806</td>\n",
       "    </tr>\n",
       "    <tr>\n",
       "      <th>8</th>\n",
       "      <td>train_8</td>\n",
       "      <td>0</td>\n",
       "      <td>16.1071</td>\n",
       "      <td>2.4426</td>\n",
       "      <td>13.9307</td>\n",
       "      <td>5.6327</td>\n",
       "      <td>8.8014</td>\n",
       "      <td>6.1630</td>\n",
       "      <td>4.4514</td>\n",
       "      <td>10.1854</td>\n",
       "      <td>...</td>\n",
       "      <td>1.4298</td>\n",
       "      <td>14.7510</td>\n",
       "      <td>1.6395</td>\n",
       "      <td>1.4181</td>\n",
       "      <td>14.8370</td>\n",
       "      <td>-1.9940</td>\n",
       "      <td>-1.0733</td>\n",
       "      <td>8.1975</td>\n",
       "      <td>19.5114</td>\n",
       "      <td>4.8453</td>\n",
       "    </tr>\n",
       "    <tr>\n",
       "      <th>9</th>\n",
       "      <td>train_9</td>\n",
       "      <td>0</td>\n",
       "      <td>12.5088</td>\n",
       "      <td>1.9743</td>\n",
       "      <td>8.8960</td>\n",
       "      <td>5.4508</td>\n",
       "      <td>13.6043</td>\n",
       "      <td>-16.2859</td>\n",
       "      <td>6.0637</td>\n",
       "      <td>16.8410</td>\n",
       "      <td>...</td>\n",
       "      <td>0.5543</td>\n",
       "      <td>6.3160</td>\n",
       "      <td>1.0371</td>\n",
       "      <td>3.6885</td>\n",
       "      <td>14.8344</td>\n",
       "      <td>0.4467</td>\n",
       "      <td>14.1287</td>\n",
       "      <td>7.9133</td>\n",
       "      <td>16.2375</td>\n",
       "      <td>14.2514</td>\n",
       "    </tr>\n",
       "  </tbody>\n",
       "</table>\n",
       "<p>10 rows × 202 columns</p>\n",
       "</div>"
      ],
      "text/plain": [
       "   ID_code  target    var_0   var_1    var_2   var_3    var_4    var_5  \\\n",
       "0  train_0       0   8.9255 -6.7863  11.9081  5.0930  11.4607  -9.2834   \n",
       "1  train_1       0  11.5006 -4.1473  13.8588  5.3890  12.3622   7.0433   \n",
       "2  train_2       0   8.6093 -2.7457  12.0805  7.8928  10.5825  -9.0837   \n",
       "3  train_3       0  11.0604 -2.1518   8.9522  7.1957  12.5846  -1.8361   \n",
       "4  train_4       0   9.8369 -1.4834  12.8746  6.6375  12.2772   2.4486   \n",
       "5  train_5       0  11.4763 -2.3182  12.6080  8.6264  10.9621   3.5609   \n",
       "6  train_6       0  11.8091 -0.0832   9.3494  4.2916  11.1355  -8.0198   \n",
       "7  train_7       0  13.5580 -7.9881  13.8776  7.5985   8.6543   0.8310   \n",
       "8  train_8       0  16.1071  2.4426  13.9307  5.6327   8.8014   6.1630   \n",
       "9  train_9       0  12.5088  1.9743   8.8960  5.4508  13.6043 -16.2859   \n",
       "\n",
       "    var_6    var_7  ...  var_190  var_191  var_192  var_193  var_194  var_195  \\\n",
       "0  5.1187  18.6266  ...   4.4354   3.9642   3.1364   1.6910  18.5227  -2.3978   \n",
       "1  5.6208  16.5338  ...   7.6421   7.7214   2.5837  10.9516  15.4305   2.0339   \n",
       "2  6.9427  14.6155  ...   2.9057   9.7905   1.6704   1.6858  21.6042   3.1417   \n",
       "3  5.8428  14.9250  ...   4.4666   4.7433   0.7178   1.4214  23.0347  -1.2706   \n",
       "4  5.9405  19.2514  ...  -1.4905   9.5214  -0.1508   9.1942  13.2876  -1.5121   \n",
       "5  4.5322  15.2255  ...  -6.3068   6.6025   5.2912   0.4403  14.9452   1.0314   \n",
       "6  6.1961  12.0771  ...   8.7830   6.4521   3.5325   0.1777  18.3314   0.5845   \n",
       "7  5.6890  22.3262  ...  13.1700   6.5491   3.9906   5.8061  23.1407  -0.3776   \n",
       "8  4.4514  10.1854  ...   1.4298  14.7510   1.6395   1.4181  14.8370  -1.9940   \n",
       "9  6.0637  16.8410  ...   0.5543   6.3160   1.0371   3.6885  14.8344   0.4467   \n",
       "\n",
       "   var_196  var_197  var_198  var_199  \n",
       "0   7.8784   8.5635  12.7803  -1.0914  \n",
       "1   8.1267   8.7889  18.3560   1.9518  \n",
       "2  -6.5213   8.2675  14.7222   0.3965  \n",
       "3  -2.9275  10.2922  17.9697  -8.9996  \n",
       "4   3.9267   9.5031  17.9974  -8.8104  \n",
       "5  -3.6241   9.7670  12.5809  -4.7602  \n",
       "6   9.1104   9.1143  10.8869  -3.2097  \n",
       "7   4.2178   9.4237   8.6624   3.4806  \n",
       "8  -1.0733   8.1975  19.5114   4.8453  \n",
       "9  14.1287   7.9133  16.2375  14.2514  \n",
       "\n",
       "[10 rows x 202 columns]"
      ]
     },
     "execution_count": 81,
     "metadata": {},
     "output_type": "execute_result"
    }
   ],
   "source": [
    "train[:10]"
   ]
  },
  {
   "cell_type": "code",
   "execution_count": 62,
   "metadata": {},
   "outputs": [
    {
     "data": {
      "text/plain": [
       "array([[ -8.9255,   6.7863, -11.9081, ...,  -8.5635, -12.7803,   1.0914],\n",
       "       [-11.5006,   4.1473, -13.8588, ...,  -8.7889, -18.356 ,  -1.9518],\n",
       "       [ -8.6093,   2.7457, -12.0805, ...,  -8.2675, -14.7222,  -0.3965],\n",
       "       ...,\n",
       "       [-11.2232,   5.0518, -10.5127, ...,  -8.7155, -13.8329,  -4.1995],\n",
       "       [ -9.7148,   8.6098, -13.6104, ..., -10.0342, -15.5289,  13.9001],\n",
       "       [-10.8762,   5.7105, -12.1183, ...,  -8.1857, -12.1284,  -0.1385]])"
      ]
     },
     "execution_count": 62,
     "metadata": {},
     "output_type": "execute_result"
    }
   ],
   "source": [
    "X[y == 0] * (-1)"
   ]
  },
  {
   "cell_type": "code",
   "execution_count": 82,
   "metadata": {},
   "outputs": [],
   "source": [
    "from sklearn.preprocessing import StandardScaler\n",
    "sc = StandardScaler()"
   ]
  },
  {
   "cell_type": "code",
   "execution_count": 84,
   "metadata": {},
   "outputs": [],
   "source": [
    "X_scaled = sc.fit_transform(train[train.columns[2:]])"
   ]
  },
  {
   "cell_type": "code",
   "execution_count": 93,
   "metadata": {},
   "outputs": [
    {
     "data": {
      "text/plain": [
       "4.1815439999481893e-17"
      ]
     },
     "execution_count": 93,
     "metadata": {},
     "output_type": "execute_result"
    }
   ],
   "source": [
    "X_scaled[:, 195].mean()"
   ]
  },
  {
   "cell_type": "code",
   "execution_count": 111,
   "metadata": {},
   "outputs": [
    {
     "data": {
      "text/plain": [
       "[<matplotlib.lines.Line2D at 0x7f48b602f1d0>]"
      ]
     },
     "execution_count": 111,
     "metadata": {},
     "output_type": "execute_result"
    },
    {
     "data": {
      "image/png": "[encoded data removed]",
      "text/plain": [
       "<Figure size 432x288 with 1 Axes>"
      ]
     },
     "metadata": {
      "needs_background": "light"
     },
     "output_type": "display_data"
    }
   ],
   "source": [
    "plt.plot(train.loc[12, train.columns[2:]].values)"
   ]
  },
  {
   "cell_type": "code",
   "execution_count": 112,
   "metadata": {},
   "outputs": [
    {
     "data": {
      "text/plain": [
       "[<matplotlib.lines.Line2D at 0x7f48b60699b0>]"
      ]
     },
     "execution_count": 112,
     "metadata": {},
     "output_type": "execute_result"
    },
    {
     "data": {
      "image/png": "[encoded data removed]",
      "text/plain": [
       "<Figure size 432x288 with 1 Axes>"
      ]
     },
     "metadata": {
      "needs_background": "light"
     },
     "output_type": "display_data"
    }
   ],
   "source": [
    "plt.plot(train.loc[13, train.columns[2:]].values)"
   ]
  },
  {
   "cell_type": "code",
   "execution_count": 118,
   "metadata": {},
   "outputs": [
    {
     "data": {
      "text/plain": [
       "(array([ 1.,  0.,  6.,  8., 37., 67., 51., 21.,  7.,  2.]),\n",
       " array([-34.7708, -27.4439, -20.117 , -12.7901,  -5.4632,   1.8637,\n",
       "          9.1906,  16.5175,  23.8444,  31.1713,  38.4982]),\n",
       " <a list of 10 Patch objects>)"
      ]
     },
     "execution_count": 118,
     "metadata": {},
     "output_type": "execute_result"
    },
    {
     "data": {
      "image/png": "[encoded data removed]",
      "text/plain": [
       "<Figure size 432x288 with 1 Axes>"
      ]
     },
     "metadata": {
      "needs_background": "light"
     },
     "output_type": "display_data"
    }
   ],
   "source": [
    "plt.hist(train.loc[12, train.columns[2:]].values.astype(np.float))"
   ]
  },
  {
   "cell_type": "code",
   "execution_count": 123,
   "metadata": {},
   "outputs": [
    {
     "data": {
      "text/plain": [
       "(array([ 3.,  5., 19., 51., 59., 45., 12.,  2.,  3.,  1.]),\n",
       " array([-21.2631, -14.8121,  -8.3611,  -1.9101,   4.5409,  10.9919,\n",
       "         17.4429,  23.8939,  30.3449,  36.7959,  43.2469]),\n",
       " <a list of 10 Patch objects>)"
      ]
     },
     "execution_count": 123,
     "metadata": {},
     "output_type": "execute_result"
    },
    {
     "data": {
      "image/png": "[encoded data removed]",
      "text/plain": [
       "<Figure size 432x288 with 1 Axes>"
      ]
     },
     "metadata": {
      "needs_background": "light"
     },
     "output_type": "display_data"
    }
   ],
   "source": [
    "plt.hist(train.loc[13, train.columns[2:]].values.astype(np.float))"
   ]
  },
  {
   "cell_type": "code",
   "execution_count": 126,
   "metadata": {},
   "outputs": [],
   "source": [
    "X_tr = train[train.columns[2:]].values.astype(np.float32)"
   ]
  },
  {
   "cell_type": "code",
   "execution_count": 146,
   "metadata": {},
   "outputs": [
    {
     "data": {
      "text/plain": [
       "<matplotlib.collections.PathCollection at 0x7f47fd2eb518>"
      ]
     },
     "execution_count": 146,
     "metadata": {},
     "output_type": "execute_result"
    },
    {
     "data": {
      "image/png": "[encoded data removed]",
      "text/plain": [
       "<Figure size 432x288 with 1 Axes>"
      ]
     },
     "metadata": {
      "needs_background": "light"
     },
     "output_type": "display_data"
    }
   ],
   "source": [
    "plt.scatter(X_tr[:100, 0], X_tr[:100, 1])"
   ]
  },
  {
   "cell_type": "code",
   "execution_count": 159,
   "metadata": {},
   "outputs": [
    {
     "data": {
      "text/plain": [
       "<matplotlib.collections.PathCollection at 0x7f47fbbb4438>"
      ]
     },
     "execution_count": 159,
     "metadata": {},
     "output_type": "execute_result"
    },
    {
     "data": {
      "image/png": "[encoded data removed]",
      "text/plain": [
       "<Figure size 432x288 with 1 Axes>"
      ]
     },
     "metadata": {
      "needs_background": "light"
     },
     "output_type": "display_data"
    }
   ],
   "source": [
    "plt.scatter(train['var_0'][:100], train['var_196'][:100], alpha=1.0, c=y[:100])"
   ]
  },
  {
   "cell_type": "code",
   "execution_count": 165,
   "metadata": {},
   "outputs": [
    {
     "data": {
      "text/html": [
       "<div>\n",
       "<style scoped>\n",
       "    .dataframe tbody tr th:only-of-type {\n",
       "        vertical-align: middle;\n",
       "    }\n",
       "\n",
       "    .dataframe tbody tr th {\n",
       "        vertical-align: top;\n",
       "    }\n",
       "\n",
       "    .dataframe thead th {\n",
       "        text-align: right;\n",
       "    }\n",
       "</style>\n",
       "<table border=\"1\" class=\"dataframe\">\n",
       "  <thead>\n",
       "    <tr style=\"text-align: right;\">\n",
       "      <th></th>\n",
       "      <th>ID_code</th>\n",
       "      <th>target</th>\n",
       "      <th>var_0</th>\n",
       "      <th>var_1</th>\n",
       "      <th>var_2</th>\n",
       "      <th>var_3</th>\n",
       "      <th>var_4</th>\n",
       "      <th>var_5</th>\n",
       "      <th>var_6</th>\n",
       "      <th>var_7</th>\n",
       "      <th>...</th>\n",
       "      <th>var_190</th>\n",
       "      <th>var_191</th>\n",
       "      <th>var_192</th>\n",
       "      <th>var_193</th>\n",
       "      <th>var_194</th>\n",
       "      <th>var_195</th>\n",
       "      <th>var_196</th>\n",
       "      <th>var_197</th>\n",
       "      <th>var_198</th>\n",
       "      <th>var_199</th>\n",
       "    </tr>\n",
       "  </thead>\n",
       "  <tbody>\n",
       "    <tr>\n",
       "      <th>0</th>\n",
       "      <td>train_0</td>\n",
       "      <td>0</td>\n",
       "      <td>8.9255</td>\n",
       "      <td>-6.7863</td>\n",
       "      <td>11.9081</td>\n",
       "      <td>5.0930</td>\n",
       "      <td>11.4607</td>\n",
       "      <td>-9.2834</td>\n",
       "      <td>5.1187</td>\n",
       "      <td>18.6266</td>\n",
       "      <td>...</td>\n",
       "      <td>4.4354</td>\n",
       "      <td>3.9642</td>\n",
       "      <td>3.1364</td>\n",
       "      <td>1.6910</td>\n",
       "      <td>18.5227</td>\n",
       "      <td>-2.3978</td>\n",
       "      <td>7.8784</td>\n",
       "      <td>8.5635</td>\n",
       "      <td>12.7803</td>\n",
       "      <td>-1.0914</td>\n",
       "    </tr>\n",
       "    <tr>\n",
       "      <th>1</th>\n",
       "      <td>train_1</td>\n",
       "      <td>0</td>\n",
       "      <td>11.5006</td>\n",
       "      <td>-4.1473</td>\n",
       "      <td>13.8588</td>\n",
       "      <td>5.3890</td>\n",
       "      <td>12.3622</td>\n",
       "      <td>7.0433</td>\n",
       "      <td>5.6208</td>\n",
       "      <td>16.5338</td>\n",
       "      <td>...</td>\n",
       "      <td>7.6421</td>\n",
       "      <td>7.7214</td>\n",
       "      <td>2.5837</td>\n",
       "      <td>10.9516</td>\n",
       "      <td>15.4305</td>\n",
       "      <td>2.0339</td>\n",
       "      <td>8.1267</td>\n",
       "      <td>8.7889</td>\n",
       "      <td>18.3560</td>\n",
       "      <td>1.9518</td>\n",
       "    </tr>\n",
       "    <tr>\n",
       "      <th>2</th>\n",
       "      <td>train_2</td>\n",
       "      <td>0</td>\n",
       "      <td>8.6093</td>\n",
       "      <td>-2.7457</td>\n",
       "      <td>12.0805</td>\n",
       "      <td>7.8928</td>\n",
       "      <td>10.5825</td>\n",
       "      <td>-9.0837</td>\n",
       "      <td>6.9427</td>\n",
       "      <td>14.6155</td>\n",
       "      <td>...</td>\n",
       "      <td>2.9057</td>\n",
       "      <td>9.7905</td>\n",
       "      <td>1.6704</td>\n",
       "      <td>1.6858</td>\n",
       "      <td>21.6042</td>\n",
       "      <td>3.1417</td>\n",
       "      <td>-6.5213</td>\n",
       "      <td>8.2675</td>\n",
       "      <td>14.7222</td>\n",
       "      <td>0.3965</td>\n",
       "    </tr>\n",
       "    <tr>\n",
       "      <th>3</th>\n",
       "      <td>train_3</td>\n",
       "      <td>0</td>\n",
       "      <td>11.0604</td>\n",
       "      <td>-2.1518</td>\n",
       "      <td>8.9522</td>\n",
       "      <td>7.1957</td>\n",
       "      <td>12.5846</td>\n",
       "      <td>-1.8361</td>\n",
       "      <td>5.8428</td>\n",
       "      <td>14.9250</td>\n",
       "      <td>...</td>\n",
       "      <td>4.4666</td>\n",
       "      <td>4.7433</td>\n",
       "      <td>0.7178</td>\n",
       "      <td>1.4214</td>\n",
       "      <td>23.0347</td>\n",
       "      <td>-1.2706</td>\n",
       "      <td>-2.9275</td>\n",
       "      <td>10.2922</td>\n",
       "      <td>17.9697</td>\n",
       "      <td>-8.9996</td>\n",
       "    </tr>\n",
       "    <tr>\n",
       "      <th>4</th>\n",
       "      <td>train_4</td>\n",
       "      <td>0</td>\n",
       "      <td>9.8369</td>\n",
       "      <td>-1.4834</td>\n",
       "      <td>12.8746</td>\n",
       "      <td>6.6375</td>\n",
       "      <td>12.2772</td>\n",
       "      <td>2.4486</td>\n",
       "      <td>5.9405</td>\n",
       "      <td>19.2514</td>\n",
       "      <td>...</td>\n",
       "      <td>-1.4905</td>\n",
       "      <td>9.5214</td>\n",
       "      <td>-0.1508</td>\n",
       "      <td>9.1942</td>\n",
       "      <td>13.2876</td>\n",
       "      <td>-1.5121</td>\n",
       "      <td>3.9267</td>\n",
       "      <td>9.5031</td>\n",
       "      <td>17.9974</td>\n",
       "      <td>-8.8104</td>\n",
       "    </tr>\n",
       "    <tr>\n",
       "      <th>5</th>\n",
       "      <td>train_5</td>\n",
       "      <td>0</td>\n",
       "      <td>11.4763</td>\n",
       "      <td>-2.3182</td>\n",
       "      <td>12.6080</td>\n",
       "      <td>8.6264</td>\n",
       "      <td>10.9621</td>\n",
       "      <td>3.5609</td>\n",
       "      <td>4.5322</td>\n",
       "      <td>15.2255</td>\n",
       "      <td>...</td>\n",
       "      <td>-6.3068</td>\n",
       "      <td>6.6025</td>\n",
       "      <td>5.2912</td>\n",
       "      <td>0.4403</td>\n",
       "      <td>14.9452</td>\n",
       "      <td>1.0314</td>\n",
       "      <td>-3.6241</td>\n",
       "      <td>9.7670</td>\n",
       "      <td>12.5809</td>\n",
       "      <td>-4.7602</td>\n",
       "    </tr>\n",
       "    <tr>\n",
       "      <th>6</th>\n",
       "      <td>train_6</td>\n",
       "      <td>0</td>\n",
       "      <td>11.8091</td>\n",
       "      <td>-0.0832</td>\n",
       "      <td>9.3494</td>\n",
       "      <td>4.2916</td>\n",
       "      <td>11.1355</td>\n",
       "      <td>-8.0198</td>\n",
       "      <td>6.1961</td>\n",
       "      <td>12.0771</td>\n",
       "      <td>...</td>\n",
       "      <td>8.7830</td>\n",
       "      <td>6.4521</td>\n",
       "      <td>3.5325</td>\n",
       "      <td>0.1777</td>\n",
       "      <td>18.3314</td>\n",
       "      <td>0.5845</td>\n",
       "      <td>9.1104</td>\n",
       "      <td>9.1143</td>\n",
       "      <td>10.8869</td>\n",
       "      <td>-3.2097</td>\n",
       "    </tr>\n",
       "    <tr>\n",
       "      <th>7</th>\n",
       "      <td>train_7</td>\n",
       "      <td>0</td>\n",
       "      <td>13.5580</td>\n",
       "      <td>-7.9881</td>\n",
       "      <td>13.8776</td>\n",
       "      <td>7.5985</td>\n",
       "      <td>8.6543</td>\n",
       "      <td>0.8310</td>\n",
       "      <td>5.6890</td>\n",
       "      <td>22.3262</td>\n",
       "      <td>...</td>\n",
       "      <td>13.1700</td>\n",
       "      <td>6.5491</td>\n",
       "      <td>3.9906</td>\n",
       "      <td>5.8061</td>\n",
       "      <td>23.1407</td>\n",
       "      <td>-0.3776</td>\n",
       "      <td>4.2178</td>\n",
       "      <td>9.4237</td>\n",
       "      <td>8.6624</td>\n",
       "      <td>3.4806</td>\n",
       "    </tr>\n",
       "    <tr>\n",
       "      <th>8</th>\n",
       "      <td>train_8</td>\n",
       "      <td>0</td>\n",
       "      <td>16.1071</td>\n",
       "      <td>2.4426</td>\n",
       "      <td>13.9307</td>\n",
       "      <td>5.6327</td>\n",
       "      <td>8.8014</td>\n",
       "      <td>6.1630</td>\n",
       "      <td>4.4514</td>\n",
       "      <td>10.1854</td>\n",
       "      <td>...</td>\n",
       "      <td>1.4298</td>\n",
       "      <td>14.7510</td>\n",
       "      <td>1.6395</td>\n",
       "      <td>1.4181</td>\n",
       "      <td>14.8370</td>\n",
       "      <td>-1.9940</td>\n",
       "      <td>-1.0733</td>\n",
       "      <td>8.1975</td>\n",
       "      <td>19.5114</td>\n",
       "      <td>4.8453</td>\n",
       "    </tr>\n",
       "    <tr>\n",
       "      <th>9</th>\n",
       "      <td>train_9</td>\n",
       "      <td>0</td>\n",
       "      <td>12.5088</td>\n",
       "      <td>1.9743</td>\n",
       "      <td>8.8960</td>\n",
       "      <td>5.4508</td>\n",
       "      <td>13.6043</td>\n",
       "      <td>-16.2859</td>\n",
       "      <td>6.0637</td>\n",
       "      <td>16.8410</td>\n",
       "      <td>...</td>\n",
       "      <td>0.5543</td>\n",
       "      <td>6.3160</td>\n",
       "      <td>1.0371</td>\n",
       "      <td>3.6885</td>\n",
       "      <td>14.8344</td>\n",
       "      <td>0.4467</td>\n",
       "      <td>14.1287</td>\n",
       "      <td>7.9133</td>\n",
       "      <td>16.2375</td>\n",
       "      <td>14.2514</td>\n",
       "    </tr>\n",
       "  </tbody>\n",
       "</table>\n",
       "<p>10 rows × 202 columns</p>\n",
       "</div>"
      ],
      "text/plain": [
       "   ID_code  target    var_0   var_1    var_2   var_3    var_4    var_5  \\\n",
       "0  train_0       0   8.9255 -6.7863  11.9081  5.0930  11.4607  -9.2834   \n",
       "1  train_1       0  11.5006 -4.1473  13.8588  5.3890  12.3622   7.0433   \n",
       "2  train_2       0   8.6093 -2.7457  12.0805  7.8928  10.5825  -9.0837   \n",
       "3  train_3       0  11.0604 -2.1518   8.9522  7.1957  12.5846  -1.8361   \n",
       "4  train_4       0   9.8369 -1.4834  12.8746  6.6375  12.2772   2.4486   \n",
       "5  train_5       0  11.4763 -2.3182  12.6080  8.6264  10.9621   3.5609   \n",
       "6  train_6       0  11.8091 -0.0832   9.3494  4.2916  11.1355  -8.0198   \n",
       "7  train_7       0  13.5580 -7.9881  13.8776  7.5985   8.6543   0.8310   \n",
       "8  train_8       0  16.1071  2.4426  13.9307  5.6327   8.8014   6.1630   \n",
       "9  train_9       0  12.5088  1.9743   8.8960  5.4508  13.6043 -16.2859   \n",
       "\n",
       "    var_6    var_7  ...  var_190  var_191  var_192  var_193  var_194  var_195  \\\n",
       "0  5.1187  18.6266  ...   4.4354   3.9642   3.1364   1.6910  18.5227  -2.3978   \n",
       "1  5.6208  16.5338  ...   7.6421   7.7214   2.5837  10.9516  15.4305   2.0339   \n",
       "2  6.9427  14.6155  ...   2.9057   9.7905   1.6704   1.6858  21.6042   3.1417   \n",
       "3  5.8428  14.9250  ...   4.4666   4.7433   0.7178   1.4214  23.0347  -1.2706   \n",
       "4  5.9405  19.2514  ...  -1.4905   9.5214  -0.1508   9.1942  13.2876  -1.5121   \n",
       "5  4.5322  15.2255  ...  -6.3068   6.6025   5.2912   0.4403  14.9452   1.0314   \n",
       "6  6.1961  12.0771  ...   8.7830   6.4521   3.5325   0.1777  18.3314   0.5845   \n",
       "7  5.6890  22.3262  ...  13.1700   6.5491   3.9906   5.8061  23.1407  -0.3776   \n",
       "8  4.4514  10.1854  ...   1.4298  14.7510   1.6395   1.4181  14.8370  -1.9940   \n",
       "9  6.0637  16.8410  ...   0.5543   6.3160   1.0371   3.6885  14.8344   0.4467   \n",
       "\n",
       "   var_196  var_197  var_198  var_199  \n",
       "0   7.8784   8.5635  12.7803  -1.0914  \n",
       "1   8.1267   8.7889  18.3560   1.9518  \n",
       "2  -6.5213   8.2675  14.7222   0.3965  \n",
       "3  -2.9275  10.2922  17.9697  -8.9996  \n",
       "4   3.9267   9.5031  17.9974  -8.8104  \n",
       "5  -3.6241   9.7670  12.5809  -4.7602  \n",
       "6   9.1104   9.1143  10.8869  -3.2097  \n",
       "7   4.2178   9.4237   8.6624   3.4806  \n",
       "8  -1.0733   8.1975  19.5114   4.8453  \n",
       "9  14.1287   7.9133  16.2375  14.2514  \n",
       "\n",
       "[10 rows x 202 columns]"
      ]
     },
     "execution_count": 165,
     "metadata": {},
     "output_type": "execute_result"
    }
   ],
   "source": [
    "train[train.target == 0][:10]"
   ]
  },
  {
   "cell_type": "code",
   "execution_count": 166,
   "metadata": {},
   "outputs": [
    {
     "data": {
      "text/html": [
       "<div>\n",
       "<style scoped>\n",
       "    .dataframe tbody tr th:only-of-type {\n",
       "        vertical-align: middle;\n",
       "    }\n",
       "\n",
       "    .dataframe tbody tr th {\n",
       "        vertical-align: top;\n",
       "    }\n",
       "\n",
       "    .dataframe thead th {\n",
       "        text-align: right;\n",
       "    }\n",
       "</style>\n",
       "<table border=\"1\" class=\"dataframe\">\n",
       "  <thead>\n",
       "    <tr style=\"text-align: right;\">\n",
       "      <th></th>\n",
       "      <th>ID_code</th>\n",
       "      <th>target</th>\n",
       "      <th>var_0</th>\n",
       "      <th>var_1</th>\n",
       "      <th>var_2</th>\n",
       "      <th>var_3</th>\n",
       "      <th>var_4</th>\n",
       "      <th>var_5</th>\n",
       "      <th>var_6</th>\n",
       "      <th>var_7</th>\n",
       "      <th>...</th>\n",
       "      <th>var_190</th>\n",
       "      <th>var_191</th>\n",
       "      <th>var_192</th>\n",
       "      <th>var_193</th>\n",
       "      <th>var_194</th>\n",
       "      <th>var_195</th>\n",
       "      <th>var_196</th>\n",
       "      <th>var_197</th>\n",
       "      <th>var_198</th>\n",
       "      <th>var_199</th>\n",
       "    </tr>\n",
       "  </thead>\n",
       "  <tbody>\n",
       "    <tr>\n",
       "      <th>13</th>\n",
       "      <td>train_13</td>\n",
       "      <td>1</td>\n",
       "      <td>16.3699</td>\n",
       "      <td>1.5934</td>\n",
       "      <td>16.7395</td>\n",
       "      <td>7.3330</td>\n",
       "      <td>12.1450</td>\n",
       "      <td>5.9004</td>\n",
       "      <td>4.8222</td>\n",
       "      <td>20.9729</td>\n",
       "      <td>...</td>\n",
       "      <td>7.4002</td>\n",
       "      <td>7.4031</td>\n",
       "      <td>4.3989</td>\n",
       "      <td>4.0978</td>\n",
       "      <td>17.3638</td>\n",
       "      <td>-1.3022</td>\n",
       "      <td>9.6846</td>\n",
       "      <td>9.0419</td>\n",
       "      <td>15.6064</td>\n",
       "      <td>-10.8529</td>\n",
       "    </tr>\n",
       "    <tr>\n",
       "      <th>29</th>\n",
       "      <td>train_29</td>\n",
       "      <td>1</td>\n",
       "      <td>5.3301</td>\n",
       "      <td>-2.6064</td>\n",
       "      <td>13.1913</td>\n",
       "      <td>3.1193</td>\n",
       "      <td>6.6483</td>\n",
       "      <td>-6.5659</td>\n",
       "      <td>5.9064</td>\n",
       "      <td>15.2341</td>\n",
       "      <td>...</td>\n",
       "      <td>5.9215</td>\n",
       "      <td>7.9676</td>\n",
       "      <td>2.3405</td>\n",
       "      <td>1.1482</td>\n",
       "      <td>23.2168</td>\n",
       "      <td>-2.0105</td>\n",
       "      <td>3.7600</td>\n",
       "      <td>9.4513</td>\n",
       "      <td>17.4105</td>\n",
       "      <td>-14.6897</td>\n",
       "    </tr>\n",
       "    <tr>\n",
       "      <th>63</th>\n",
       "      <td>train_63</td>\n",
       "      <td>1</td>\n",
       "      <td>7.7072</td>\n",
       "      <td>0.0183</td>\n",
       "      <td>9.9974</td>\n",
       "      <td>8.3524</td>\n",
       "      <td>9.2886</td>\n",
       "      <td>-13.3627</td>\n",
       "      <td>6.0425</td>\n",
       "      <td>10.1108</td>\n",
       "      <td>...</td>\n",
       "      <td>1.5832</td>\n",
       "      <td>5.0039</td>\n",
       "      <td>3.8814</td>\n",
       "      <td>7.4241</td>\n",
       "      <td>21.4844</td>\n",
       "      <td>-0.8297</td>\n",
       "      <td>-3.0468</td>\n",
       "      <td>7.5790</td>\n",
       "      <td>15.7685</td>\n",
       "      <td>5.4769</td>\n",
       "    </tr>\n",
       "    <tr>\n",
       "      <th>65</th>\n",
       "      <td>train_65</td>\n",
       "      <td>1</td>\n",
       "      <td>10.5358</td>\n",
       "      <td>-2.5439</td>\n",
       "      <td>8.7394</td>\n",
       "      <td>6.7548</td>\n",
       "      <td>14.4099</td>\n",
       "      <td>-3.8724</td>\n",
       "      <td>5.1584</td>\n",
       "      <td>15.8381</td>\n",
       "      <td>...</td>\n",
       "      <td>4.6648</td>\n",
       "      <td>6.4227</td>\n",
       "      <td>3.4025</td>\n",
       "      <td>-4.0882</td>\n",
       "      <td>14.1174</td>\n",
       "      <td>-0.2472</td>\n",
       "      <td>5.3847</td>\n",
       "      <td>8.6949</td>\n",
       "      <td>15.1340</td>\n",
       "      <td>3.8449</td>\n",
       "    </tr>\n",
       "    <tr>\n",
       "      <th>71</th>\n",
       "      <td>train_71</td>\n",
       "      <td>1</td>\n",
       "      <td>6.7547</td>\n",
       "      <td>2.5973</td>\n",
       "      <td>14.2141</td>\n",
       "      <td>8.3514</td>\n",
       "      <td>7.4942</td>\n",
       "      <td>-1.3055</td>\n",
       "      <td>4.2336</td>\n",
       "      <td>15.0243</td>\n",
       "      <td>...</td>\n",
       "      <td>1.4677</td>\n",
       "      <td>3.5935</td>\n",
       "      <td>2.0013</td>\n",
       "      <td>1.5777</td>\n",
       "      <td>18.2820</td>\n",
       "      <td>-4.3408</td>\n",
       "      <td>6.8869</td>\n",
       "      <td>9.3567</td>\n",
       "      <td>18.9013</td>\n",
       "      <td>13.3447</td>\n",
       "    </tr>\n",
       "    <tr>\n",
       "      <th>72</th>\n",
       "      <td>train_72</td>\n",
       "      <td>1</td>\n",
       "      <td>8.6470</td>\n",
       "      <td>0.4462</td>\n",
       "      <td>10.9808</td>\n",
       "      <td>10.1859</td>\n",
       "      <td>13.9121</td>\n",
       "      <td>-16.4645</td>\n",
       "      <td>5.2837</td>\n",
       "      <td>13.8396</td>\n",
       "      <td>...</td>\n",
       "      <td>6.6004</td>\n",
       "      <td>13.0969</td>\n",
       "      <td>2.2437</td>\n",
       "      <td>0.6260</td>\n",
       "      <td>23.4572</td>\n",
       "      <td>0.3117</td>\n",
       "      <td>8.1634</td>\n",
       "      <td>7.9248</td>\n",
       "      <td>10.5462</td>\n",
       "      <td>-17.8708</td>\n",
       "    </tr>\n",
       "    <tr>\n",
       "      <th>84</th>\n",
       "      <td>train_84</td>\n",
       "      <td>1</td>\n",
       "      <td>14.6825</td>\n",
       "      <td>6.7583</td>\n",
       "      <td>9.7766</td>\n",
       "      <td>9.9461</td>\n",
       "      <td>7.9207</td>\n",
       "      <td>-2.7174</td>\n",
       "      <td>5.4594</td>\n",
       "      <td>20.1579</td>\n",
       "      <td>...</td>\n",
       "      <td>4.3388</td>\n",
       "      <td>10.4738</td>\n",
       "      <td>2.3715</td>\n",
       "      <td>1.5612</td>\n",
       "      <td>18.8488</td>\n",
       "      <td>-1.2723</td>\n",
       "      <td>8.7246</td>\n",
       "      <td>7.7010</td>\n",
       "      <td>15.2861</td>\n",
       "      <td>9.8048</td>\n",
       "    </tr>\n",
       "    <tr>\n",
       "      <th>99</th>\n",
       "      <td>train_99</td>\n",
       "      <td>1</td>\n",
       "      <td>9.4554</td>\n",
       "      <td>-3.5377</td>\n",
       "      <td>8.1026</td>\n",
       "      <td>7.4557</td>\n",
       "      <td>12.8716</td>\n",
       "      <td>4.4526</td>\n",
       "      <td>4.1798</td>\n",
       "      <td>19.0480</td>\n",
       "      <td>...</td>\n",
       "      <td>11.4642</td>\n",
       "      <td>9.4043</td>\n",
       "      <td>2.4608</td>\n",
       "      <td>5.1603</td>\n",
       "      <td>21.9483</td>\n",
       "      <td>-0.9451</td>\n",
       "      <td>-5.9209</td>\n",
       "      <td>9.7453</td>\n",
       "      <td>16.3138</td>\n",
       "      <td>-14.8816</td>\n",
       "    </tr>\n",
       "    <tr>\n",
       "      <th>119</th>\n",
       "      <td>train_119</td>\n",
       "      <td>1</td>\n",
       "      <td>12.6769</td>\n",
       "      <td>-0.4517</td>\n",
       "      <td>6.7371</td>\n",
       "      <td>9.4245</td>\n",
       "      <td>12.7274</td>\n",
       "      <td>3.0585</td>\n",
       "      <td>5.7957</td>\n",
       "      <td>15.5797</td>\n",
       "      <td>...</td>\n",
       "      <td>1.6877</td>\n",
       "      <td>9.6047</td>\n",
       "      <td>0.7896</td>\n",
       "      <td>10.2968</td>\n",
       "      <td>20.0513</td>\n",
       "      <td>-0.9380</td>\n",
       "      <td>10.2037</td>\n",
       "      <td>7.7482</td>\n",
       "      <td>13.2917</td>\n",
       "      <td>-11.2830</td>\n",
       "    </tr>\n",
       "    <tr>\n",
       "      <th>120</th>\n",
       "      <td>train_120</td>\n",
       "      <td>1</td>\n",
       "      <td>7.6382</td>\n",
       "      <td>-6.3480</td>\n",
       "      <td>8.3145</td>\n",
       "      <td>7.6210</td>\n",
       "      <td>10.6435</td>\n",
       "      <td>-8.8025</td>\n",
       "      <td>7.1044</td>\n",
       "      <td>20.6761</td>\n",
       "      <td>...</td>\n",
       "      <td>-1.6585</td>\n",
       "      <td>13.7319</td>\n",
       "      <td>0.8665</td>\n",
       "      <td>10.6605</td>\n",
       "      <td>24.4835</td>\n",
       "      <td>0.1339</td>\n",
       "      <td>-4.0743</td>\n",
       "      <td>7.8159</td>\n",
       "      <td>19.4458</td>\n",
       "      <td>-19.9356</td>\n",
       "    </tr>\n",
       "  </tbody>\n",
       "</table>\n",
       "<p>10 rows × 202 columns</p>\n",
       "</div>"
      ],
      "text/plain": [
       "       ID_code  target    var_0   var_1    var_2    var_3    var_4    var_5  \\\n",
       "13    train_13       1  16.3699  1.5934  16.7395   7.3330  12.1450   5.9004   \n",
       "29    train_29       1   5.3301 -2.6064  13.1913   3.1193   6.6483  -6.5659   \n",
       "63    train_63       1   7.7072  0.0183   9.9974   8.3524   9.2886 -13.3627   \n",
       "65    train_65       1  10.5358 -2.5439   8.7394   6.7548  14.4099  -3.8724   \n",
       "71    train_71       1   6.7547  2.5973  14.2141   8.3514   7.4942  -1.3055   \n",
       "72    train_72       1   8.6470  0.4462  10.9808  10.1859  13.9121 -16.4645   \n",
       "84    train_84       1  14.6825  6.7583   9.7766   9.9461   7.9207  -2.7174   \n",
       "99    train_99       1   9.4554 -3.5377   8.1026   7.4557  12.8716   4.4526   \n",
       "119  train_119       1  12.6769 -0.4517   6.7371   9.4245  12.7274   3.0585   \n",
       "120  train_120       1   7.6382 -6.3480   8.3145   7.6210  10.6435  -8.8025   \n",
       "\n",
       "      var_6    var_7  ...  var_190  var_191  var_192  var_193  var_194  \\\n",
       "13   4.8222  20.9729  ...   7.4002   7.4031   4.3989   4.0978  17.3638   \n",
       "29   5.9064  15.2341  ...   5.9215   7.9676   2.3405   1.1482  23.2168   \n",
       "63   6.0425  10.1108  ...   1.5832   5.0039   3.8814   7.4241  21.4844   \n",
       "65   5.1584  15.8381  ...   4.6648   6.4227   3.4025  -4.0882  14.1174   \n",
       "71   4.2336  15.0243  ...   1.4677   3.5935   2.0013   1.5777  18.2820   \n",
       "72   5.2837  13.8396  ...   6.6004  13.0969   2.2437   0.6260  23.4572   \n",
       "84   5.4594  20.1579  ...   4.3388  10.4738   2.3715   1.5612  18.8488   \n",
       "99   4.1798  19.0480  ...  11.4642   9.4043   2.4608   5.1603  21.9483   \n",
       "119  5.7957  15.5797  ...   1.6877   9.6047   0.7896  10.2968  20.0513   \n",
       "120  7.1044  20.6761  ...  -1.6585  13.7319   0.8665  10.6605  24.4835   \n",
       "\n",
       "     var_195  var_196  var_197  var_198  var_199  \n",
       "13   -1.3022   9.6846   9.0419  15.6064 -10.8529  \n",
       "29   -2.0105   3.7600   9.4513  17.4105 -14.6897  \n",
       "63   -0.8297  -3.0468   7.5790  15.7685   5.4769  \n",
       "65   -0.2472   5.3847   8.6949  15.1340   3.8449  \n",
       "71   -4.3408   6.8869   9.3567  18.9013  13.3447  \n",
       "72    0.3117   8.1634   7.9248  10.5462 -17.8708  \n",
       "84   -1.2723   8.7246   7.7010  15.2861   9.8048  \n",
       "99   -0.9451  -5.9209   9.7453  16.3138 -14.8816  \n",
       "119  -0.9380  10.2037   7.7482  13.2917 -11.2830  \n",
       "120   0.1339  -4.0743   7.8159  19.4458 -19.9356  \n",
       "\n",
       "[10 rows x 202 columns]"
      ]
     },
     "execution_count": 166,
     "metadata": {},
     "output_type": "execute_result"
    }
   ],
   "source": [
    "train[train.target == 1][:10]"
   ]
  },
  {
   "cell_type": "code",
   "execution_count": 177,
   "metadata": {
    "scrolled": false
   },
   "outputs": [
    {
     "data": {
      "image/png": "[encoded data removed]",
      "text/plain": [
       "<Figure size 432x288 with 1 Axes>"
      ]
     },
     "metadata": {
      "needs_background": "light"
     },
     "output_type": "display_data"
    }
   ],
   "source": [
    "for i in range(100):\n",
    "    plt.plot(train[train.target == 0][i:i+1][train.columns[2:]].values.reshape((-1, 1)))\n",
    "#     plt.show()"
   ]
  },
  {
   "cell_type": "code",
   "execution_count": 178,
   "metadata": {},
   "outputs": [
    {
     "data": {
      "image/png": "[encoded data removed]",
      "text/plain": [
       "<Figure size 432x288 with 1 Axes>"
      ]
     },
     "metadata": {
      "needs_background": "light"
     },
     "output_type": "display_data"
    }
   ],
   "source": [
    "for i in range(100):\n",
    "    plt.plot(train[train.target == 1][i:i+1][train.columns[2:]].values.reshape((-1, 1)))"
   ]
  },
  {
   "cell_type": "code",
   "execution_count": 408,
   "metadata": {},
   "outputs": [
    {
     "data": {
      "text/plain": [
       "array([    13,     29,     63, ..., 199981, 199986, 199990])"
      ]
     },
     "execution_count": 408,
     "metadata": {},
     "output_type": "execute_result"
    }
   ],
   "source": [
    "train[y == 1].index.values"
   ]
  },
  {
   "cell_type": "code",
   "execution_count": 411,
   "metadata": {},
   "outputs": [
    {
     "data": {
      "text/plain": [
       "0          4\n",
       "1          1\n",
       "2          3\n",
       "3          1\n",
       "4          1\n",
       "5         11\n",
       "6          2\n",
       "7          3\n",
       "8          5\n",
       "9          1\n",
       "10         5\n",
       "11         5\n",
       "12         1\n",
       "13         3\n",
       "14         3\n",
       "15         4\n",
       "16         1\n",
       "17         3\n",
       "18         4\n",
       "19         1\n",
       "20         5\n",
       "21         3\n",
       "22         4\n",
       "23         2\n",
       "24         3\n",
       "25         5\n",
       "26         4\n",
       "27         7\n",
       "28         2\n",
       "29         5\n",
       "          ..\n",
       "199970     5\n",
       "199971     4\n",
       "199972     1\n",
       "199973     1\n",
       "199974     1\n",
       "199975     2\n",
       "199976     3\n",
       "199977    10\n",
       "199978     4\n",
       "199979     3\n",
       "199980     1\n",
       "199981     2\n",
       "199982     5\n",
       "199983     5\n",
       "199984     3\n",
       "199985     1\n",
       "199986     3\n",
       "199987     2\n",
       "199988     3\n",
       "199989     5\n",
       "199990     7\n",
       "199991     2\n",
       "199992     1\n",
       "199993     5\n",
       "199994     1\n",
       "199995     5\n",
       "199996     2\n",
       "199997     5\n",
       "199998     1\n",
       "199999     5\n",
       "Name: var_81, Length: 200000, dtype: int64"
      ]
     },
     "execution_count": 411,
     "metadata": {},
     "output_type": "execute_result"
    }
   ],
   "source": [
    "train.groupby('var_81')['var_81'].transform('count')"
   ]
  },
  {
   "cell_type": "code",
   "execution_count": null,
   "metadata": {},
   "outputs": [],
   "source": []
  }
 ],
 "metadata": {
  "kernelspec": {
   "display_name": "Python 3",
   "language": "python",
   "name": "python3"
  },
  "language_info": {
   "codemirror_mode": {
    "name": "ipython",
    "version": 3
   },
   "file_extension": ".py",
   "mimetype": "text/x-python",
   "name": "python",
   "nbconvert_exporter": "python",
   "pygments_lexer": "ipython3",
   "version": "3.6.7"
  }
 },
 "nbformat": 4,
 "nbformat_minor": 2
}
