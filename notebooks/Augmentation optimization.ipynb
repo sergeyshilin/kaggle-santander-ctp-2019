{
 "cells": [
  {
   "cell_type": "code",
   "execution_count": 1,
   "metadata": {},
   "outputs": [],
   "source": [
    "import numpy as np\n",
    "import pandas as pd"
   ]
  },
  {
   "cell_type": "code",
   "execution_count": 2,
   "metadata": {},
   "outputs": [],
   "source": [
    "train = pd.read_csv('../data/train.csv')\n",
    "counters = np.load('../data/value_counters.npy')"
   ]
  },
  {
   "cell_type": "code",
   "execution_count": 3,
   "metadata": {},
   "outputs": [],
   "source": [
    "X_tr = train[train.columns[2:]]\n",
    "y_tr = train.target"
   ]
  },
  {
   "cell_type": "code",
   "execution_count": 26,
   "metadata": {},
   "outputs": [],
   "source": [
    "# Data augmentation\n",
    "def augment_class(X):\n",
    "    X_new = X.copy()\n",
    "\n",
    "    for c in range(X.shape[1]):\n",
    "        np.random.shuffle(X_new[:, c])\n",
    "\n",
    "    return X_new\n",
    "\n",
    "def augment(X, y, t=2, balancer=2):\n",
    "    np.random.seed(42)\n",
    "\n",
    "    t_pos = t\n",
    "    t_neg = t // balancer\n",
    "\n",
    "    X_pos_orig = X[y == 1]\n",
    "    X_neg_orig = X[y == 0]\n",
    "    X_pos = np.zeros((t_pos, *X_pos_orig.shape), dtype=X.dtype)\n",
    "    X_neg = np.zeros((t_neg, *X_neg_orig.shape), dtype=X.dtype)\n",
    "\n",
    "    for i in range(t_pos):\n",
    "        X_pos[i] = augment_class(X_pos_orig)\n",
    "\n",
    "    for i in range(t_neg):\n",
    "        X_neg[i] = augment_class(X_neg_orig)\n",
    "\n",
    "    X_pos = np.vstack(X_pos)\n",
    "    X_neg = np.vstack(X_neg)\n",
    "    y_pos = np.ones(X_pos.shape[0])\n",
    "    y_neg = np.zeros(X_neg.shape[0])\n",
    "    X = np.vstack((X, X_pos, X_neg))\n",
    "    y = np.concatenate((y, y_pos, y_neg))\n",
    "\n",
    "    return X, y"
   ]
  },
  {
   "cell_type": "code",
   "execution_count": 6,
   "metadata": {},
   "outputs": [],
   "source": [
    "%load_ext line_profiler"
   ]
  },
  {
   "cell_type": "code",
   "execution_count": 18,
   "metadata": {},
   "outputs": [],
   "source": [
    "X_neg = X_tr[y_tr == 0]"
   ]
  },
  {
   "cell_type": "code",
   "execution_count": 27,
   "metadata": {},
   "outputs": [],
   "source": [
    "%lprun -f augment_class augment_class(X_neg.values)"
   ]
  },
  {
   "cell_type": "code",
   "execution_count": 28,
   "metadata": {},
   "outputs": [],
   "source": [
    "%lprun -f augment augment(X_tr.values, y_tr.values, t=10, balancer=3)"
   ]
  },
  {
   "cell_type": "code",
   "execution_count": null,
   "metadata": {},
   "outputs": [],
   "source": []
  }
 ],
 "metadata": {
  "kernelspec": {
   "display_name": "Python 3",
   "language": "python",
   "name": "python3"
  },
  "language_info": {
   "codemirror_mode": {
    "name": "ipython",
    "version": 3
   },
   "file_extension": ".py",
   "mimetype": "text/x-python",
   "name": "python",
   "nbconvert_exporter": "python",
   "pygments_lexer": "ipython3",
   "version": "3.6.7"
  }
 },
 "nbformat": 4,
 "nbformat_minor": 2
}
